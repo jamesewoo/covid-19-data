{
 "cells": [
  {
   "cell_type": "code",
   "execution_count": null,
   "metadata": {},
   "outputs": [],
   "source": [
    "from pandas import DataFrame, read_csv\n",
    "import matplotlib.pyplot as plt\n",
    "import pandas as pd\n",
    "from numpy import math"
   ]
  },
  {
   "cell_type": "code",
   "execution_count": null,
   "metadata": {},
   "outputs": [],
   "source": [
    "file = r\"us-counties.csv\"\n",
    "df = pd.read_csv(file, parse_dates=[\"date\"])\n",
    "df[\"cfr\"] = df[\"deaths\"]/df[\"cases\"]\n",
    "df[\"county_state\"] = df[\"county\"]+\", \"+df[\"state\"]\n",
    "\n",
    "state_names = df[\"state\"].unique()\n",
    "df = df.drop(columns=[\"county\", \"state\", \"fips\"])\n",
    "\n",
    "state_names"
   ]
  },
  {
   "cell_type": "code",
   "execution_count": null,
   "metadata": {},
   "outputs": [],
   "source": [
    "last_updated = df[\"date\"].max()\n",
    "print(\"Last updated:\", last_updated)\n",
    "print(\"Time since first case:\", df[\"date\"].max() - df[\"date\"].min())"
   ]
  },
  {
   "cell_type": "code",
   "execution_count": null,
   "metadata": {},
   "outputs": [],
   "source": [
    "today = df.loc[df[\"date\"] == last_updated, [\n",
    "    \"county_state\", \"cases\", \"deaths\", \"cfr\"]]\n",
    "\n",
    "def get_top(df, column, num_to_show=5):\n",
    "    if column == \"cfr\":\n",
    "        df = df.dropna()\n",
    "    df = df[df[\"cfr\"] <= 1]\n",
    "    df = df.sort_values(by=column)\n",
    "    lo = df.head(num_to_show)\n",
    "    hi = df.tail(num_to_show).sort_values(by=column, ascending=False)\n",
    "    return lo, hi\n",
    "\n",
    "lo, hi = get_top(today, \"deaths\")\n",
    "hi"
   ]
  },
  {
   "cell_type": "code",
   "execution_count": null,
   "metadata": {},
   "outputs": [],
   "source": [
    "diff_1_suffix = \" - Daily Increase\"\n",
    "diff_2_suffix = \" - Change in Daily Increase\"\n",
    "\n",
    "window_size = 5\n",
    "counties = df.pivot(index=\"date\", columns=\"county_state\", values=\"cases\")\n",
    "for county in counties.columns:\n",
    "    counties[county+diff_1_suffix] = counties[county].diff().rolling(window_size, center=True).mean()\n",
    "    counties[county+diff_2_suffix] = counties[county+diff_1_suffix].diff()\n",
    "    \n",
    "counties"
   ]
  },
  {
   "cell_type": "code",
   "execution_count": null,
   "metadata": {},
   "outputs": [],
   "source": [
    "import os\n",
    "\n",
    "for state in state_names:\n",
    "    county_names = [c for c in counties.columns if c.endswith(state)]\n",
    "\n",
    "    os.makedirs(f'plots/{state}', exist_ok=True)\n",
    "    plt.rcParams['figure.figsize'] = [15, 10]\n",
    "\n",
    "    for county in county_names:\n",
    "        df = counties[[county, county+diff_1_suffix, county+diff_2_suffix]\n",
    "                 ].dropna()\n",
    "        if not df.empty:\n",
    "            df.plot.bar(subplots=True)\n",
    "            plt.savefig(f'plots/{state}/{county}.png', bbox_inches='tight')\n",
    "            plt.close()"
   ]
  },
  {
   "cell_type": "code",
   "execution_count": null,
   "metadata": {},
   "outputs": [],
   "source": [
    "daily_increase = counties[[county+diff_1_suffix]]\n",
    "weekday = daily_increase.groupby([daily_increase.index.weekday]).sum()\n",
    "\n",
    "plt.rcParams['figure.figsize'] = [15, 5]\n",
    "weekday.plot.bar()"
   ]
  },
  {
   "cell_type": "code",
   "execution_count": null,
   "metadata": {},
   "outputs": [],
   "source": []
  }
 ],
 "metadata": {
  "kernelspec": {
   "display_name": "Python 3",
   "language": "python",
   "name": "python3"
  },
  "language_info": {
   "codemirror_mode": {
    "name": "ipython",
    "version": 3
   },
   "file_extension": ".py",
   "mimetype": "text/x-python",
   "name": "python",
   "nbconvert_exporter": "python",
   "pygments_lexer": "ipython3",
   "version": "3.7.7"
  }
 },
 "nbformat": 4,
 "nbformat_minor": 4
}